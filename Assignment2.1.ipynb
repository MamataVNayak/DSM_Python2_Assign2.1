{
 "cells": [
  {
   "cell_type": "code",
   "execution_count": 5,
   "metadata": {},
   "outputs": [
    {
     "name": "stdout",
     "output_type": "stream",
     "text": [
      "Input comma separated numbers3,4,5\n",
      "Generated List:\n",
      "['3', '4', '5']\n"
     ]
    }
   ],
   "source": [
    "#Assignment 2.1\n",
    "#Write a program which accepts a sequence of comma-separated numbers from console and generate a list\n",
    "\n",
    "i=input(\"Input comma separated numbers\")\n",
    "#print(i)\n",
    "lt=[]\n",
    "for chars in i:\n",
    "    if chars==\",\":\n",
    "       continue\n",
    "    #num=int(chars)\n",
    "    #print(num)\n",
    "    lt.extend(chars)\n",
    "print(\"Generated List:\")\n",
    "print(lt)"
   ]
  },
  {
   "cell_type": "code",
   "execution_count": null,
   "metadata": {},
   "outputs": [],
   "source": []
  },
  {
   "cell_type": "code",
   "execution_count": null,
   "metadata": {},
   "outputs": [],
   "source": []
  }
 ],
 "metadata": {
  "kernelspec": {
   "display_name": "Python 3",
   "language": "python",
   "name": "python3"
  },
  "language_info": {
   "codemirror_mode": {
    "name": "ipython",
    "version": 3
   },
   "file_extension": ".py",
   "mimetype": "text/x-python",
   "name": "python",
   "nbconvert_exporter": "python",
   "pygments_lexer": "ipython3",
   "version": "3.6.4"
  }
 },
 "nbformat": 4,
 "nbformat_minor": 2
}
